{
  "nbformat": 4,
  "nbformat_minor": 0,
  "metadata": {
    "colab": {
      "provenance": []
    },
    "kernelspec": {
      "name": "python3",
      "display_name": "Python 3"
    },
    "language_info": {
      "name": "python"
    }
  },
  "cells": [
    {
      "cell_type": "markdown",
      "source": [
        "#Gametime Scraper\n",
        "This code allows the user to input a link for GameTime events and outputs two seperate graphs that highlights the median price for each section and minimum price for each section."
      ],
      "metadata": {
        "id": "xnkJQ5-j2LEc"
      }
    },
    {
      "cell_type": "markdown",
      "source": [
        "##Import Necessary Packages\n",
        "requests and bs4 are used to access and scrape the ticket data from the website.\n",
        "\n",
        "pandas is utilized to organize the data.\n",
        "\n",
        "statistics and umpy are used to make calculations on the data.\n",
        "\n",
        "seaborn is used to display the data."
      ],
      "metadata": {
        "id": "wEW1Y3mM22hl"
      }
    },
    {
      "cell_type": "code",
      "source": [
        "import requests\n",
        "from bs4 import BeautifulSoup\n",
        "import pandas as pd\n",
        "import statistics\n",
        "import seaborn as sns\n",
        "import numpy"
      ],
      "metadata": {
        "id": "PSKkhhyBIvZf",
        "colab": {
          "base_uri": "https://localhost:8080/"
        },
        "outputId": "85cb1310-bfa3-4216-8ad2-ac5b7d207d23"
      },
      "execution_count": 61,
      "outputs": [
        {
          "output_type": "stream",
          "name": "stdout",
          "text": [
            "Drive already mounted at /content/drive; to attempt to forcibly remount, call drive.mount(\"/content/drive\", force_remount=True).\n"
          ]
        }
      ]
    },
    {
      "cell_type": "markdown",
      "source": [
        "##Creating the function\n",
        "Below is the creation of the function that takes the input of a GameTime event URL and parses through the html to extract data relating to: price, section and seat.\n",
        "\n",
        "This data is then compiled into a dataset which is used calculations and visualizations.\n",
        "\n"
      ],
      "metadata": {
        "id": "ZAROM4D14d0V"
      }
    },
    {
      "cell_type": "code",
      "source": [
        "def scrape_gametime(url):\n",
        "  response = requests.get(url) #sends a GET request to the specified url.\n",
        "\n",
        "  soup = BeautifulSoup(response.text, 'html.parser') #print the contents of a specific part of a page\n",
        "\n",
        "  price = soup.find_all('div', class_=\"pages-Event-components-ListingCard-ListingCard-module__price-info\")\n",
        "  pricelist = list()\n",
        "  for element in price:\n",
        "    pricelist.append(element.get_text()) #Finds all data relating to the pricing of tickets for an event\n",
        "\n",
        "  section = soup.find_all('div', class_=\"pages-Event-components-ListingCard-ListingCard-module__section-name\")\n",
        "  sectionlist = list()\n",
        "  for element in section:\n",
        "    sectionlist.append(element.get_text()) #Finds all data relating to the section of tickets for an event\n",
        "\n",
        "  seat = soup.find_all('div', class_=\"pages-Event-components-ListingCard-ListingCard-module__seat-details\")\n",
        "  seatlist = list()\n",
        "  for element in seat:\n",
        "    seatlist.append(element.get_text()) #Finds all data relating to the seat of tickets for an event\n",
        "\n",
        "\n",
        "  pricelist = list(map(lambda sub:int(''.join(\n",
        "      [ele for ele in sub if ele.isnumeric()])), pricelist)) #Parses out non-numeric data in the price data\n",
        "\n",
        "  df = pd.DataFrame(list(zip(sectionlist,seatlist,pricelist)),\n",
        "               columns =['Section', 'Seat', 'Price (before fees)']) #constructs data into a dataframe for analysis\n",
        "  return df"
      ],
      "metadata": {
        "id": "ALCGVpJpkA26"
      },
      "execution_count": 124,
      "outputs": []
    },
    {
      "cell_type": "markdown",
      "source": [
        "##Insert GameTime URL"
      ],
      "metadata": {
        "id": "k35b-oNj56lf"
      }
    },
    {
      "cell_type": "code",
      "source": [
        "link = input('Insert the link of the event you are interested in: ') #allows user to input link of their event\n",
        "ticketscrape_df = scrape_gametime(link) #creates dataframe for specific event"
      ],
      "metadata": {
        "colab": {
          "base_uri": "https://localhost:8080/"
        },
        "id": "pM-60Y9PbJWY",
        "outputId": "d62c428e-4069-4834-8a45-9d93ed44a97e"
      },
      "execution_count": 62,
      "outputs": [
        {
          "name": "stdout",
          "output_type": "stream",
          "text": [
            "Insert the link of the event you are interested in: https://gametime.co/college-football/bruins-at-huskies-tickets/11-15-2024-seattle-wa-husky-stadium/events/65440d5d2d8ed5aedc250500\n",
            "Insert section, if applicable (optional): \n"
          ]
        }
      ]
    },
    {
      "cell_type": "markdown",
      "source": [
        "##Creating Mean and Median datasets"
      ],
      "metadata": {
        "id": "2za8Waja6BU4"
      }
    },
    {
      "cell_type": "code",
      "source": [
        "print(ticketscrape_df)\n",
        "ticket_median = ticketscrape_df.groupby(\"Section\")[\"Price (before fees)\"].agg(\"median\").reset_index() #calculate median of each section\n",
        "ticket_median = ticket_median.sort_values('Price (before fees)', ascending=True) #order data from least to greatest\n",
        "ticket_min = ticketscrape_df.groupby(\"Section\")[\"Price (before fees)\"].agg(\"min\").reset_index() #calcualte minimum of each seaciton\n",
        "ticket_min = ticket_min.sort_values('Price (before fees)', ascending=True) #order data from least to greatest\n"
      ],
      "metadata": {
        "id": "Sqv17flBStCy",
        "colab": {
          "base_uri": "https://localhost:8080/"
        },
        "collapsed": true,
        "outputId": "45a927b0-df4c-4296-bd07-b2bcbdd51517"
      },
      "execution_count": 132,
      "outputs": [
        {
          "output_type": "stream",
          "name": "stdout",
          "text": [
            "             Section         Seat  Price (before fees)\n",
            "0     Upper Sideline  333, Row 67                    8\n",
            "1     Upper Sideline  301, Row 43                    8\n",
            "2     Upper Sideline  310, Row 36                    8\n",
            "3     Upper Sideline  311, Row 43                    9\n",
            "4      Lower Endzone  136, Row 17                   10\n",
            "..               ...          ...                  ...\n",
            "133    Middle Corner   232, Row 2               126116\n",
            "134   Husky Heritage  129, Row 30               134123\n",
            "135  Middle Sideline  231, Row 10                  130\n",
            "136  Middle Sideline   231, Row 2               179165\n",
            "137   Lower Sideline  110, Row 41               200184\n",
            "\n",
            "[138 rows x 3 columns]\n"
          ]
        }
      ]
    },
    {
      "cell_type": "markdown",
      "source": [
        "##Median Ticket Price Graph"
      ],
      "metadata": {
        "id": "aqH7scA-6FZP"
      }
    },
    {
      "cell_type": "code",
      "source": [
        "pal = sns.color_palette(\"Greens_d\", len(ticket_median)) #create gradient palette\n",
        "\n",
        "ax = sns.barplot(data=ticket_median,y=\"Price (before fees)\", x = \"Section\",  palette = pal, hue = \"Section\") #create graph\n",
        "\n",
        "\n",
        "\n",
        "ax.tick_params(axis='x', rotation=30) #adjust x axis\n",
        "plt.yscale('log') #adjust scale of y axis\n",
        "plt.gca().set_yticklabels([]) #remove y axis labels\n",
        "for p in ax.patches:\n",
        "    ax.annotate(f'\\n{int(p.get_height())}',\n",
        "                (p.get_x() + p.get_width() / 2, p.get_height()), ha='center', va='bottom', color='black', size=10) #create data labels for each bar\n",
        "plt.title(\"Median Prices by Section\") #graph title\n",
        "plt.tight_layout()\n",
        "plt.show() #display graph"
      ],
      "metadata": {
        "id": "YVHaULS2yCrN"
      },
      "execution_count": null,
      "outputs": []
    },
    {
      "cell_type": "markdown",
      "source": [
        "##Minimum Ticket Price Graph"
      ],
      "metadata": {
        "id": "Z4bl0DOg6HFR"
      }
    },
    {
      "cell_type": "code",
      "source": [
        "pal = sns.color_palette(\"Reds_d\", len(ticket_median)) #create gradient palette\n",
        "\n",
        "ax = sns.barplot(data=ticket_min,y=\"Price (before fees)\", x = \"Section\",  palette = pal, hue = \"Section\") #create graph\n",
        "\n",
        "\n",
        "\n",
        "ax.tick_params(axis='x', rotation=30) #adjust x axis\n",
        "plt.yscale('log') #adjust scale of y axis\n",
        "plt.gca().set_yticklabels([]) #remove y axis labels\n",
        "for p in ax.patches:\n",
        "    ax.annotate(f'\\n{int(p.get_height())}',\n",
        "                (p.get_x() + p.get_width() / 2, p.get_height()), ha='center', va='bottom', color='black', size=10) #create data labels for each bar\n",
        "plt.title(\"Minimum Prices by Section\") #graph title\n",
        "plt.tight_layout()\n",
        "plt.show() #display graph"
      ],
      "metadata": {
        "colab": {
          "base_uri": "https://localhost:8080/",
          "height": 487
        },
        "id": "FlSAdGbWpDQq",
        "outputId": "2941f06d-cdaa-4b90-f9bd-f530ca1b82f4"
      },
      "execution_count": 136,
      "outputs": [
        {
          "output_type": "display_data",
          "data": {
            "text/plain": [
              "<Figure size 640x480 with 1 Axes>"
            ],
            "image/png": "[encoded data removed]"
          },
          "metadata": {}
        }
      ]
    }
  ]
}